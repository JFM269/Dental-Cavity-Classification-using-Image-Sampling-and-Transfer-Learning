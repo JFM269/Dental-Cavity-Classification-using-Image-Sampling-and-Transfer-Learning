{
  "nbformat": 4,
  "nbformat_minor": 0,
  "metadata": {
    "colab": {
      "provenance": []
    },
    "kernelspec": {
      "name": "python3",
      "display_name": "Python 3"
    },
    "language_info": {
      "name": "python"
    },
    "accelerator": "GPU",
    "gpuClass": "standard"
  },
  "cells": [
    {
      "cell_type": "code",
      "execution_count": 1,
      "metadata": {
        "colab": {
          "base_uri": "https://localhost:8080/"
        },
        "id": "TFbH40qdt7wa",
        "outputId": "f4dfd266-39f9-4031-cc5b-ca72df32a47e"
      },
      "outputs": [
        {
          "output_type": "stream",
          "name": "stdout",
          "text": [
            "Images resizing and saving complete.\n"
          ]
        }
      ],
      "source": [
        "import os\n",
        "import cv2\n",
        "from os import listdir\n",
        "\n",
        "# get the path or directory\n",
        "folder_dir = \"D:\\\\Subjects\\\\DAA\\\\teeth_dataset\\\\train\\\\Caries\"\n",
        "path = \"D:\\\\Subjects\\\\DAA\\\\Project\\\\sampling\\\\512 x 512\\\\train\\\\caries\"\n",
        "img = cv2.imread(path)\n",
        "for images in os.listdir(folder_dir):\n",
        "\n",
        "    # check if the image ends with png or jpg or jpeg\n",
        "    if images.endswith(\".jpg\"):\n",
        "        # display\n",
        "        im = cv2.cvtColor(images, cv2.COLOR_BGR2RGB)\n",
        "        im1 = cv2.resize(im, (512, 512))\n",
        "        cv2.imwrite(im1, img)\n",
        "\n",
        "print(\"Images resizing and saving complete.\")"
      ]
    }
  ]
}
